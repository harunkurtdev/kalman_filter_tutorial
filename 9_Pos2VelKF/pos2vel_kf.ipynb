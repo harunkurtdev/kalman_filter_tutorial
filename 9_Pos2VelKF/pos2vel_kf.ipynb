{
 "cells": [
  {
   "cell_type": "code",
   "execution_count": null,
   "metadata": {},
   "outputs": [],
   "source": [
    "import numpy as np\n",
    "import matplotlib.pyplot as plt\n",
    "from numpy.linalg import inv"
   ]
  },
  {
   "cell_type": "code",
   "execution_count": null,
   "metadata": {},
   "outputs": [],
   "source": [
    "def get_pos_vel(itime,pos_true):\n",
    "    \"Return measured position, true velocity and true position\"\n",
    "    w=np.random.normal(0,np.sqrt(10)) # w :system noise\n",
    "    v=np.random.normal(0,np.sqrt(10)) # v: measurement noise\n",
    "    \n",
    "    vel_true=80 + w\n",
    "    if itime==0:\n",
    "        pos_true=pos_true\n",
    "    else:\n",
    "        pos_true=pos_true+vel_true*dt\n",
    "    z_pos_meas=pos_true+v #z_pos_meas : mesaured position (observavle)\n",
    "    return z_pos_meas,vel_true,pos_true"
   ]
  }
 ],
 "metadata": {
  "kernelspec": {
   "display_name": "Python 3.9.0 64-bit",
   "language": "python",
   "name": "python3"
  },
  "language_info": {
   "name": "python",
   "version": "3.9.0"
  },
  "orig_nbformat": 4,
  "vscode": {
   "interpreter": {
    "hash": "f94fa830761afa048cb8ad7c615496c1cb7976fd39775ab9265a8c469561e883"
   }
  }
 },
 "nbformat": 4,
 "nbformat_minor": 2
}
