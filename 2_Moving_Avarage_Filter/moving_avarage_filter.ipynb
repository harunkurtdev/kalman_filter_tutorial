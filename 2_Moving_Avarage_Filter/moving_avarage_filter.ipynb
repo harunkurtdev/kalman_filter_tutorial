{
 "cells": [
  {
   "cell_type": "code",
   "execution_count": null,
   "metadata": {},
   "outputs": [],
   "source": [
    "import numpy as np\n",
    "import matplotlib.pyplot as plt\n",
    "from numpy.linalg import inv, cholesky\n",
    "from scipy import io\n",
    "import random"
   ]
  },
  {
   "cell_type": "code",
   "execution_count": null,
   "metadata": {},
   "outputs": [],
   "source": [
    "def get_sonar():\n",
    "    return random.randint()"
   ]
  },
  {
   "cell_type": "code",
   "execution_count": null,
   "metadata": {},
   "outputs": [],
   "source": [
    "def mov_avg_filter(x_n,x_meas):\n",
    "    \"calculate average sonar using a moving average filter (batch expression)\"\n",
    "    n=len(x_n)\n",
    "    for i in range(n-1):\n",
    "        x_n[i]= x_n[i+1]\n",
    "    x_n[n-1]=x_meas\n",
    "    x_avg = np.mean(x_n)\n",
    "    return x_avg,x_n"
   ]
  },
  {
   "cell_type": "code",
   "execution_count": null,
   "metadata": {},
   "outputs": [],
   "source": [
    "# input parametres \n",
    "n=10\n",
    "n_sampless= 500\n",
    "time_end= 10"
   ]
  },
  {
   "cell_type": "code",
   "execution_count": null,
   "metadata": {},
   "outputs": [],
   "source": [
    "dt = time_end/n_sampless\n",
    "time  =np.arange(0,time_end,dt)\n",
    "x_meas_save = np.zeros(n_sampless)\n",
    "x_avg_save =np.zeros(n_sampless)"
   ]
  },
  {
   "cell_type": "code",
   "execution_count": null,
   "metadata": {},
   "outputs": [],
   "source": [
    "for i in range(n_sampless):\n",
    "    x_meas = get_sonar()\n",
    "    if i == 0:\n",
    "        x_avg,x_n = x_meas,x_meas*np.ones(n)\n",
    "    else :\n",
    "        x_avg, x_n = mov_avg_filter(x_n=x_n,x_meas=x_meas)\n",
    "    \n",
    "    x_meas_save[i] = x_meas\n",
    "    x_avg_save[i] = x_avg"
   ]
  },
  {
   "cell_type": "code",
   "execution_count": null,
   "metadata": {},
   "outputs": [],
   "source": [
    "plt.plot(time,x_avg_save,\"r*\",label=\"Measured\")\n",
    "plt.plot(time,x_avg_save,\"b-\",label=\"Moving average\")\n",
    "plt.legend(loc=\"upper left\")\n",
    "plt.title(\"Measured Altitudes v.s. Moving average Filter values\")\n",
    "plt.xlabel(\"Time [sec]\")\n",
    "plt.ylabel(\"Altitude [m]\")\n",
    "plt.savefig(\"png/moving_average_filter.png\")\n"
   ]
  }
 ],
 "metadata": {
  "language_info": {
   "name": "python"
  },
  "orig_nbformat": 4
 },
 "nbformat": 4,
 "nbformat_minor": 2
}
