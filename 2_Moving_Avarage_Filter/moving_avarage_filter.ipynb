{
 "cells": [
  {
   "cell_type": "code",
   "execution_count": null,
   "metadata": {},
   "outputs": [],
   "source": [
    "import numpy as np\n",
    "import matplotlib.pyplot as plt\n",
    "from numpy.linalg import inv, cholesky\n",
    "from scipy import io\n",
    "import random"
   ]
  },
  {
   "cell_type": "code",
   "execution_count": null,
   "metadata": {},
   "outputs": [],
   "source": [
    "def get_sonar():\n",
    "    return random.randint()"
   ]
  },
  {
   "cell_type": "code",
   "execution_count": null,
   "metadata": {},
   "outputs": [],
   "source": [
    "def mov_avg_filter(x_n,x_meas):\n",
    "    \"calculate average sonar using a moving average filter (batch expression)\"\n",
    "    n=len(x_n)\n",
    "    for i in range(n-1):\n",
    "        x_n[i]= x_n[i+1]\n",
    "    x_n[n-1]=x_meas\n",
    "    x_avg = np.mean(x_n)\n",
    "    return x_avg,x_n"
   ]
  }
 ],
 "metadata": {
  "language_info": {
   "name": "python"
  },
  "orig_nbformat": 4
 },
 "nbformat": 4,
 "nbformat_minor": 2
}
