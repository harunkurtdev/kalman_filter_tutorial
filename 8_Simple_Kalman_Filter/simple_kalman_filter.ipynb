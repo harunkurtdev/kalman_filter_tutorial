{
 "cells": [
  {
   "cell_type": "code",
   "execution_count": null,
   "metadata": {},
   "outputs": [],
   "source": [
    "import numpy as np\n",
    "import matplotlib.pyplot as plt \n",
    "\n",
    "np.random.seed(0)"
   ]
  },
  {
   "cell_type": "code",
   "execution_count": null,
   "metadata": {},
   "outputs": [],
   "source": [
    "def get_volt():\n",
    "    \"Measure voltage\"\n",
    "    v=np.random.normal(0,2) #v : measurement noise\n",
    "    volt_true = 14.4        # volt_true : True volttage [v]\n",
    "    z_volt_meas=volt_true+v # z_volt_meas : Measured Voltage [V] (observable).\n",
    "    return z_volt_meas"
   ]
  },
  {
   "cell_type": "code",
   "execution_count": null,
   "metadata": {},
   "outputs": [],
   "source": [
    "def kalman_filter"
   ]
  }
 ],
 "metadata": {
  "language_info": {
   "name": "python"
  },
  "orig_nbformat": 4
 },
 "nbformat": 4,
 "nbformat_minor": 2
}
