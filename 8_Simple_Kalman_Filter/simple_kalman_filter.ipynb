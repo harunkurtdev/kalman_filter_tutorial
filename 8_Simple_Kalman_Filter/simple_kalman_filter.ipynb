{
 "cells": [
  {
   "cell_type": "code",
   "execution_count": null,
   "metadata": {},
   "outputs": [],
   "source": [
    "import numpy as np\n",
    "import matplotlib.pyplot as plt \n",
    "\n",
    "np.random.seed(0)"
   ]
  },
  {
   "cell_type": "code",
   "execution_count": null,
   "metadata": {},
   "outputs": [],
   "source": [
    "def get_volt():\n",
    "    \"Measure voltage\"\n",
    "    v=np.random.normal(0,2) #v : measurement noise\n",
    "    volt_true = 14.4        # volt_true : True volttage [v]\n",
    "    z_volt_meas=volt_true+v # z_volt_meas : Measured Voltage [V] (observable).\n",
    "    return z_volt_meas"
   ]
  },
  {
   "cell_type": "code",
   "execution_count": null,
   "metadata": {},
   "outputs": [],
   "source": [
    "def kalman_filter(z_meas,x_esti,P):\n",
    "    #(1) Prediction\n",
    "    x_pred = A*x_esti\n",
    "    P_pred=A*P*A + quit\n",
    "    \n",
    "    # (2) kalman gain\n",
    "    K=P_pred*H/(H*P_pred*H + R)\n",
    "    \n",
    "    # (3) Estimation\n",
    "    x_esti = x_pred+K*(z_meas-H*x_pred)\n",
    "    \n",
    "    # (4) Error Covariance \n",
    "    P = P_pred-K*H*P_pred\n",
    "    \n",
    "    return x_esti, P"
   ]
  },
  {
   "cell_type": "code",
   "execution_count": null,
   "metadata": {},
   "outputs": [],
   "source": [
    "time_end=10\n",
    "dt=0.2"
   ]
  },
  {
   "cell_type": "code",
   "execution_count": null,
   "metadata": {},
   "outputs": [],
   "source": [
    "# Initalization for system model\n",
    "A=1\n",
    "H=1;Q=0\n",
    "R=4\n",
    "# Initialization for estimation \n",
    "x_0=12 # 14 for book\n",
    "P_0=6"
   ]
  },
  {
   "cell_type": "code",
   "execution_count": null,
   "metadata": {},
   "outputs": [],
   "source": [
    "time=np.arange(0,time_end,dt)\n",
    "n_samples=len(time)\n",
    "volt_meas_save= np.zeros(n_samples)\n",
    "volt_esti_save= np.zeros(n_samples)"
   ]
  },
  {
   "cell_type": "code",
   "execution_count": null,
   "metadata": {},
   "outputs": [],
   "source": [
    "x_esti,P=None,None\n",
    "for i in range(n_samples):\n",
    "    z_meas=get_volt()\n",
    "    if i==0:\n",
    "        x_esti,P=x_0,P_0\n",
    "    else:\n",
    "        x_esti,P=kalman_filter(z_meas,x_esti,P)\n",
    "    volt_meas_save[i]=z_meas\n",
    "    volt_esti_save[i]=x_esti"
   ]
  },
  {
   "cell_type": "code",
   "execution_count": null,
   "metadata": {},
   "outputs": [],
   "source": [
    "plt.plot(time,volt_meas_save,\"r*--\",label=\"Measırments\")\n",
    "plt.plot(time,volt_esti_save,\"bo-\",label=\"Kalman Filter\")\n",
    "plt.legend(loc=\"upper left\")\n",
    "plt.title(\"Measurements v.s. Estimation (Kalman Filter)\")\n",
    "plt.xlabel(\"Time [sec]\")\n",
    "plt.xlabel(\"Voltage [volt]\")\n",
    "plt.savefig(\"./png/simple_kalman_filter.png\")"
   ]
  }
 ],
 "metadata": {
  "language_info": {
   "name": "python"
  },
  "orig_nbformat": 4
 },
 "nbformat": 4,
 "nbformat_minor": 2
}
