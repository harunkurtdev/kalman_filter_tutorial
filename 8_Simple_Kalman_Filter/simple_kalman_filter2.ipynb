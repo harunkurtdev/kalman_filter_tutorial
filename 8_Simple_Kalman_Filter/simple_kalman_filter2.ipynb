{
 "cells": [
  {
   "cell_type": "code",
   "execution_count": 1,
   "metadata": {},
   "outputs": [],
   "source": [
    "import numpy as np\n",
    "import matplotlib.pyplot as plt\n",
    "\n",
    "np.random.seed(0)"
   ]
  },
  {
   "cell_type": "code",
   "execution_count": 9,
   "metadata": {},
   "outputs": [],
   "source": [
    "def get_volt():\n",
    "    \"Random get measure voltage\"\n",
    "    v = np.random.normal(0,2)\n",
    "    volt_true = 14.4\n",
    "    z_volt_meas = volt_true + v\n",
    "    return z_volt_meas"
   ]
  },
  {
   "cell_type": "code",
   "execution_count": 3,
   "metadata": {},
   "outputs": [
    {
     "data": {
      "text/plain": [
       "''"
      ]
     },
     "execution_count": 3,
     "metadata": {},
     "output_type": "execute_result"
    }
   ],
   "source": [
    "def kalman_filter(z_meas,x_esti, P):\n",
    "    \"\"\"Kalman filter algorithm for one variable.\n",
    "    return kalman gain for drawing\"\"\"\n",
    "    \n",
    "    #(1) Prediction \n",
    "    x_pred = A*x_esti\n",
    "    p_pred= A*P*A +Q\n",
    "    \n",
    "    # (2) Kalman Gain.\n",
    "    K= p_pred* H / (H*P_pred*H +R)\n",
    "    \n",
    "    # (3) Estimation \n",
    "    x_esti = x_pred + K*(z_meas -H*x_pred)\n",
    "    \n",
    "    #(4) Error Covariance\n",
    "    P = P_pred -K*H*P_pred\n",
    "    \n",
    "    return x_esti, P, K\n",
    "_"
   ]
  },
  {
   "cell_type": "code",
   "execution_count": 4,
   "metadata": {},
   "outputs": [],
   "source": [
    "time_end = 10\n",
    "dt = 0.2"
   ]
  },
  {
   "cell_type": "code",
   "execution_count": 5,
   "metadata": {},
   "outputs": [],
   "source": [
    "# Initialization for system model \n",
    "A =1 \n",
    "H = 1\n",
    "Q=0\n",
    "R = 4\n",
    "# Initilaztion for estimation \n",
    "x_0 = 12\n",
    "P_0 =6\n",
    "K_0 =1"
   ]
  },
  {
   "cell_type": "code",
   "execution_count": 6,
   "metadata": {},
   "outputs": [],
   "source": [
    "time = np.arange(0,time_end,dt)\n",
    "n_samples = len(time)\n",
    "volt_meas_save = np.zeros(n_samples)\n",
    "volt_esti_save = np.zeros(n_samples)\n",
    "P_save = np.zeros(n_samples)\n",
    "K_save = np.zeros(n_samples)"
   ]
  },
  {
   "cell_type": "code",
   "execution_count": 10,
   "metadata": {},
   "outputs": [
    {
     "ename": "TypeError",
     "evalue": "'module' object is not callable",
     "output_type": "error",
     "traceback": [
      "\u001b[1;31m---------------------------------------------------------------------------\u001b[0m",
      "\u001b[1;31mTypeError\u001b[0m                                 Traceback (most recent call last)",
      "Cell \u001b[1;32mIn [10], line 3\u001b[0m\n\u001b[0;32m      1\u001b[0m x_esti, P , K \u001b[39m=\u001b[39m\u001b[39mNone\u001b[39;00m,\u001b[39mNone\u001b[39;00m , \u001b[39mNone\u001b[39;00m\n\u001b[0;32m      2\u001b[0m \u001b[39mfor\u001b[39;00m i \u001b[39min\u001b[39;00m \u001b[39mrange\u001b[39m(n_samples):\n\u001b[1;32m----> 3\u001b[0m     z_meas \u001b[39m=\u001b[39m get_volt()\n\u001b[0;32m      4\u001b[0m     \u001b[39mif\u001b[39;00m i \u001b[39m==\u001b[39m \u001b[39m0\u001b[39m:\n\u001b[0;32m      5\u001b[0m         x_esti, P , K \u001b[39m=\u001b[39m x_0,P_0, K_0\n",
      "Cell \u001b[1;32mIn [9], line 3\u001b[0m, in \u001b[0;36mget_volt\u001b[1;34m()\u001b[0m\n\u001b[0;32m      1\u001b[0m \u001b[39mdef\u001b[39;00m \u001b[39mget_volt\u001b[39m():\n\u001b[0;32m      2\u001b[0m     \u001b[39m\"\u001b[39m\u001b[39mRandom get measure voltage\u001b[39m\u001b[39m\"\u001b[39m\n\u001b[1;32m----> 3\u001b[0m     v \u001b[39m=\u001b[39m np\u001b[39m.\u001b[39;49mrandom(\u001b[39m0\u001b[39;49m,\u001b[39m2\u001b[39;49m)\n\u001b[0;32m      4\u001b[0m     volt_true \u001b[39m=\u001b[39m \u001b[39m14.4\u001b[39m\n\u001b[0;32m      5\u001b[0m     z_volt_meas \u001b[39m=\u001b[39m volt_true \u001b[39m+\u001b[39m v\n",
      "\u001b[1;31mTypeError\u001b[0m: 'module' object is not callable"
     ]
    }
   ],
   "source": [
    "x_esti, P , K =None,None , None\n",
    "for i in range(n_samples):\n",
    "    z_meas = get_volt()\n",
    "    if i == 0:\n",
    "        x_esti, P , K = x_0,P_0, K_0\n",
    "    else :\n",
    "        x_esti, P , K = kalman_filter(z_meas=z_meas,x_esti=x_esti, P=P)\n",
    "    \n",
    "    volt_meas_save[i]= z_meas\n",
    "    volt_esti_save[i] = x_esti\n",
    "    P_save[i]= P\n",
    "    K_save[i] = K"
   ]
  },
  {
   "cell_type": "code",
   "execution_count": null,
   "metadata": {},
   "outputs": [],
   "source": [
    "fig, axes = plt.subplots(nrows=1, ncols=3, figsize=(25,10))\n",
    "\n",
    "plt.subplot(1, 3, 1)\n",
    "plt.plot(time, volt_meas_save, 'r*--', label='Measurements', markersize=15)\n",
    "plt.plot(time, volt_esti_save, 'bo-', label='Kalman Filter', markersize=15)\n",
    "plt.legend(loc='upper left', fontsize=20)\n",
    "plt.title('Measurements v.s. Estimation (Kalman Filter)', fontsize=20)\n",
    "plt.xlabel('Time [sec]', fontsize=25)\n",
    "plt.ylabel('Voltage [V]', fontsize=25)\n",
    "\n",
    "plt.subplot(1, 3, 2)\n",
    "plt.plot(time, P_save, 'go-', markersize=15)\n",
    "plt.title('Error Covariance (Kalman Filter)', fontsize=20)\n",
    "plt.xlabel('Time [sec]', fontsize=25)\n",
    "plt.ylabel('Error Covariance (P)', fontsize=25)\n",
    "\n",
    "plt.subplot(1, 3, 3)\n",
    "plt.plot(time, K_save, 'ko-', markersize=15)\n",
    "plt.title('Kalman Gain (Kalman Filter)', fontsize=20)\n",
    "plt.xlabel('Time [sec]', fontsize=25)\n",
    "plt.ylabel('Kalman Gain (K)', fontsize=25)\n",
    "plt.savefig('png/simple_kalman_filter2.png')"
   ]
  }
 ],
 "metadata": {
  "kernelspec": {
   "display_name": "Python 3.9.0 64-bit",
   "language": "python",
   "name": "python3"
  },
  "language_info": {
   "codemirror_mode": {
    "name": "ipython",
    "version": 3
   },
   "file_extension": ".py",
   "mimetype": "text/x-python",
   "name": "python",
   "nbconvert_exporter": "python",
   "pygments_lexer": "ipython3",
   "version": "3.9.0"
  },
  "orig_nbformat": 4,
  "vscode": {
   "interpreter": {
    "hash": "f94fa830761afa048cb8ad7c615496c1cb7976fd39775ab9265a8c469561e883"
   }
  }
 },
 "nbformat": 4,
 "nbformat_minor": 2
}
