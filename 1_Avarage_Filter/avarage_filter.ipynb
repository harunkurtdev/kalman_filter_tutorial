{
 "cells": [
  {
   "cell_type": "code",
   "execution_count": null,
   "metadata": {},
   "outputs": [],
   "source": [
    "import numpy as np\n",
    "\n",
    "import matplotlib.pyplot as plt \n",
    "\n",
    "np.random.seed(0)"
   ]
  },
  {
   "cell_type": "code",
   "execution_count": null,
   "metadata": {},
   "outputs": [],
   "source": [
    "def get_voltage():\n",
    "    \"measure voltage\"\n",
    "    V= np.random.normal(0,4)\n",
    "    voltage_mean=14.4\n",
    "    volt_meas=voltage_mean + V\n",
    "    return volt_meas"
   ]
  },
  {
   "cell_type": "code",
   "execution_count": null,
   "metadata": {},
   "outputs": [],
   "source": [
    "def avarage_filter(k,x_meas,x_avg):\n",
    "    \"calculate avarage voltage using a average filter\"\n",
    "    alpha=(k-1)/k\n",
    "    "
   ]
  }
 ],
 "metadata": {
  "language_info": {
   "name": "python"
  },
  "orig_nbformat": 4
 },
 "nbformat": 4,
 "nbformat_minor": 2
}
