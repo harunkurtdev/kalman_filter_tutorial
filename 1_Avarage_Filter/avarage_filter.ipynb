{
 "cells": [
  {
   "cell_type": "code",
   "execution_count": null,
   "metadata": {},
   "outputs": [],
   "source": [
    "import numpy as np\n",
    "\n",
    "import matplotlib.pyplot as plt \n",
    "\n",
    "np.random.seed(0)"
   ]
  },
  {
   "cell_type": "code",
   "execution_count": null,
   "metadata": {},
   "outputs": [],
   "source": [
    "def get_voltage():\n",
    "    \"measure voltage\"\n",
    "    V= np.random.normal(0,4)\n",
    "    voltage_mean=14.4\n",
    "    volt_meas=voltage_mean + V\n",
    "    return volt_meas"
   ]
  },
  {
   "cell_type": "code",
   "execution_count": null,
   "metadata": {},
   "outputs": [],
   "source": [
    "def avarage_filter(k,x_meas,x_avg):\n",
    "    \"calculate avarage voltage using a average filter\"\n",
    "    alpha=(k-1)/k\n",
    "    x_avg=alpha*x_avg+(1-alpha)*x_meas\n",
    "    \n",
    "    return x_avg\n"
   ]
  },
  {
   "cell_type": "code",
   "execution_count": null,
   "metadata": {},
   "outputs": [],
   "source": [
    "time_end=5.0\n",
    "dt=0.2"
   ]
  },
  {
   "cell_type": "code",
   "execution_count": null,
   "metadata": {},
   "outputs": [],
   "source": [
    "time = np.arange(0,time_end,dt)\n",
    "\n",
    "n_samples=  len(time)\n",
    "x_meas_save =np.zeros(n_samples)\n",
    "x_avg_save =np.zeros(n_samples)"
   ]
  },
  {
   "cell_type": "code",
   "execution_count": null,
   "metadata": {},
   "outputs": [],
   "source": [
    "x_avg=0\n",
    "for i in range(n_samples):\n",
    "    k=i+1\n",
    "    x_meas = get_voltage()\n",
    "    x_avg= avarage_filter(k,x_meas,x_avg)\n",
    "    \n",
    "    x_meas_save[i]=x_meas_save\n",
    "    x_avg_save=x_avg"
   ]
  },
  {
   "cell_type": "code",
   "execution_count": null,
   "metadata": {},
   "outputs": [],
   "source": [
    "plt.plot(time,x_meas_save,\"r*\",label=\"Measured\")\n",
    "plt.plot(time,x_meas_save,\"b-\",label=\"Avarage\")\n",
    "plt.legend(loc=\"upper left\")\n",
    "plt.title(\"Measured Voltages v.s. Average Filter Values\")\n",
    "plt.xlabel(\"Time [sec]\")\n",
    "plt.ylabel(\"Volt [v]\")\n",
    "plt.savefig(\"png/average_filter.png\")"
   ]
  }
 ],
 "metadata": {
  "language_info": {
   "name": "python"
  },
  "orig_nbformat": 4
 },
 "nbformat": 4,
 "nbformat_minor": 2
}
