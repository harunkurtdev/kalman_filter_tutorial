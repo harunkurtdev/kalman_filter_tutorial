{
 "cells": [
  {
   "cell_type": "code",
   "execution_count": 1,
   "metadata": {},
   "outputs": [],
   "source": [
    "import numpy as np\n",
    "import matplotlib.pyplot as pt\n",
    "from scipy import io"
   ]
  },
  {
   "cell_type": "code",
   "execution_count": 2,
   "metadata": {},
   "outputs": [],
   "source": [
    "def get_sonar():\n",
    "    # global sonar_val\n",
    "    # j=0\n",
    "    # for i in range(0,20,0.3):\n",
    "    #     sonar_val.append(i)\n",
    "    \n",
    "    return np.random.randint(low=0,high=100)"
   ]
  },
  {
   "cell_type": "code",
   "execution_count": 3,
   "metadata": {},
   "outputs": [],
   "source": [
    "sonar_val=[]\n",
    "alpha=0.7\n",
    "n_samples=500\n",
    "time_end=10\n"
   ]
  },
  {
   "cell_type": "code",
   "execution_count": 4,
   "metadata": {},
   "outputs": [],
   "source": [
    "def low_pass_filter(x_meas, x_esti):\n",
    "    \"\"\"Calculate average sonar using a low-pass filter.\"\"\"\n",
    "    x_esti = alpha * x_esti + (1 - alpha) * x_meas\n",
    "    return x_esti"
   ]
  },
  {
   "cell_type": "code",
   "execution_count": 5,
   "metadata": {},
   "outputs": [],
   "source": [
    "dt = time_end/n_samples\n",
    "time= np.arange(0,time_end,dt)\n",
    "x_meas_save=np.zeros(n_samples)\n",
    "x_esti_save=np.zeros(n_samples)"
   ]
  },
  {
   "cell_type": "code",
   "execution_count": 6,
   "metadata": {},
   "outputs": [
    {
     "ename": "TypeError",
     "evalue": "randint() takes at least 1 positional argument (0 given)",
     "output_type": "error",
     "traceback": [
      "\u001b[1;31m---------------------------------------------------------------------------\u001b[0m",
      "\u001b[1;31mTypeError\u001b[0m                                 Traceback (most recent call last)",
      "Cell \u001b[1;32mIn [6], line 3\u001b[0m\n\u001b[0;32m      1\u001b[0m x_esti \u001b[39m=\u001b[39m \u001b[39mNone\u001b[39;00m\n\u001b[0;32m      2\u001b[0m \u001b[39mfor\u001b[39;00m i \u001b[39min\u001b[39;00m \u001b[39mrange\u001b[39m(n_samples):\n\u001b[1;32m----> 3\u001b[0m     x_meas \u001b[39m=\u001b[39m get_sonar()\n\u001b[0;32m      4\u001b[0m     \u001b[39mif\u001b[39;00m i \u001b[39m==\u001b[39m \u001b[39m0\u001b[39m:\n\u001b[0;32m      5\u001b[0m         x_esti\u001b[39m=\u001b[39mx_meas\n",
      "Cell \u001b[1;32mIn [2], line 7\u001b[0m, in \u001b[0;36mget_sonar\u001b[1;34m()\u001b[0m\n\u001b[0;32m      1\u001b[0m \u001b[39mdef\u001b[39;00m \u001b[39mget_sonar\u001b[39m():\n\u001b[0;32m      2\u001b[0m     \u001b[39m# global sonar_val\u001b[39;00m\n\u001b[0;32m      3\u001b[0m     \u001b[39m# j=0\u001b[39;00m\n\u001b[0;32m      4\u001b[0m     \u001b[39m# for i in range(0,20,0.3):\u001b[39;00m\n\u001b[0;32m      5\u001b[0m     \u001b[39m#     sonar_val.append(i)\u001b[39;00m\n\u001b[1;32m----> 7\u001b[0m     \u001b[39mreturn\u001b[39;00m np\u001b[39m.\u001b[39;49mrandom\u001b[39m.\u001b[39;49mrandint()\n",
      "File \u001b[1;32mmtrand.pyx:646\u001b[0m, in \u001b[0;36mnumpy.random.mtrand.RandomState.randint\u001b[1;34m()\u001b[0m\n",
      "\u001b[1;31mTypeError\u001b[0m: randint() takes at least 1 positional argument (0 given)"
     ]
    }
   ],
   "source": [
    "x_esti = None\n",
    "for i in range(n_samples):\n",
    "    x_meas = get_sonar()\n",
    "    if i == 0:\n",
    "        x_esti=x_meas\n",
    "    else:\n",
    "        x_esti = low_pass_filter(x_meas, x_esti)\n",
    "\n",
    "    x_meas_save[i] = x_meas\n",
    "    x_esti_save[i] = x_esti"
   ]
  },
  {
   "cell_type": "code",
   "execution_count": null,
   "metadata": {},
   "outputs": [],
   "source": [
    "plt.plot(time, x_meas_save, 'r*', label='Measured')\n",
    "plt.plot(time, x_esti_save, 'b-', label='Low-pass Filter')\n",
    "plt.legend(loc='upper left')\n",
    "plt.title('Measured Altitudes v.s. LPF Values')\n",
    "plt.xlabel('Time [sec]')\n",
    "plt.ylabel('Altitude [m]')"
   ]
  }
 ],
 "metadata": {
  "kernelspec": {
   "display_name": "Python 3.9.0 64-bit",
   "language": "python",
   "name": "python3"
  },
  "language_info": {
   "codemirror_mode": {
    "name": "ipython",
    "version": 3
   },
   "file_extension": ".py",
   "mimetype": "text/x-python",
   "name": "python",
   "nbconvert_exporter": "python",
   "pygments_lexer": "ipython3",
   "version": "3.9.0"
  },
  "orig_nbformat": 4,
  "vscode": {
   "interpreter": {
    "hash": "f94fa830761afa048cb8ad7c615496c1cb7976fd39775ab9265a8c469561e883"
   }
  }
 },
 "nbformat": 4,
 "nbformat_minor": 2
}
